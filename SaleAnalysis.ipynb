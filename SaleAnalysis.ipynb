{
 "cells": [
  {
   "cell_type": "code",
   "execution_count": null,
   "metadata": {},
   "outputs": [],
   "source": [
    "%pip install scikit-learn \n",
    "%pip install pandas\n",
    "%pip install lightgbm\n",
    "%pip install plotly\n",
    "%pip install tqdm\n",
    "%pip install statsmodels\n",
    "\n",
    "import pandas as pd\n",
    "import numpy as np\n",
    "import plotly.graph_objects as go\n",
    "import plotly.express as px\n",
    "import plotly.offline as py\n",
    "from lightgbm import LGBMRegressor\n",
    "from sklearn.model_selection import TimeSeriesSplit\n",
    "from sklearn.preprocessing import LabelEncoder\n",
    "from sklearn.metrics import mean_squared_log_error\n",
    "from tqdm import tqdm"
   ]
  },
  {
   "attachments": {},
   "cell_type": "markdown",
   "metadata": {},
   "source": [
    "                                                    Loading and Pre-processing of Data"
   ]
  },
  {
   "cell_type": "code",
   "execution_count": 80,
   "metadata": {},
   "outputs": [],
   "source": [
    "# Load in the data\n",
    "train_df = pd.read_csv('./train.csv', index_col='id')\n",
    "test_df = pd.read_csv('./test.csv', index_col='id')\n",
    "stores_df = pd.read_csv('./stores.csv')\n",
    "transactions_df = pd.read_csv('./transactions.csv')\n",
    "oil_df = pd.read_csv('./oil.csv')\n",
    "holidays_events_df = pd.read_csv('./holidays_events.csv')"
   ]
  },
  {
   "cell_type": "code",
   "execution_count": 81,
   "metadata": {},
   "outputs": [],
   "source": [
    "########## train, test, and 'X' ##########\n",
    "\n",
    "train_df['date'] = pd.to_datetime(train_df['date'])\n",
    "test_df['date'] = pd.to_datetime(test_df['date'])\n",
    "# Filter the DataFrame based on 'date'\n",
    "train_df = train_df[train_df['date'] >= '2016-08-15']\n",
    "\n",
    "# split train_df into 'y' for target and 'train_features_df' for features from train set.\n",
    "y = np.log1p(train_df['sales'])\n",
    "train_features_df = train_df.drop(['sales'], axis=1)\n",
    "# Create 'X' total features dataframe by combining train and test feature dataframes, so I can feature engineer both train and test at same time.\n",
    "X = pd.concat([train_features_df, test_df], axis=0, ignore_index=True)\n",
    "\n",
    "# I decided to not (one hot encode) 'family', but I could have.\n",
    "le = LabelEncoder()\n",
    "X['family'] = le.fit_transform(X['family'])"
   ]
  },
  {
   "cell_type": "code",
   "execution_count": 82,
   "metadata": {},
   "outputs": [],
   "source": [
    "########## stores_df ##########\n",
    "\n",
    "# Population, size (km^2), and population density (P/km^2) for the cities \n",
    "population = {'Quito': 2000000, 'Santo Domingo': 460000, 'Cayambe': 40000, 'Latacunga': 100000, 'Riobamba': 157000, 'Ibarra': 150000, 'Guaranda': 35000, 'Puyo': 40000, 'Ambato': 350000, 'Guayaquil': 2750000, 'Salinas': 50000, 'Daule': 130000, 'Babahoyo': 105000, 'Quevedo': 200000, 'Playas': 40000, 'Libertad': 105000, 'Cuenca': 445000, 'Loja': 200000, 'Machala': 260000, 'Esmeraldas': 200000, 'Manta': 240000, 'El Carmen': 120000}\n",
    "\n",
    "size = {'Quito': 372, 'Santo Domingo': 60, 'Cayambe': 378, 'Latacunga': 370, 'Riobamba': 59, 'Ibarra': 242, 'Guaranda': 520, 'Puyo': 88, 'Ambato': 47, 'Guayaquil': 345, 'Salinas': 27, 'Daule': 475, 'Babahoyo': 175, 'Quevedo': 300, 'Playas': 280, 'Libertad': 28, 'Cuenca': 71, 'Loja': 44, 'Machala': 67, 'Esmeraldas': 70, 'Manta': 60, 'El Carmen': 1250}\n",
    "\n",
    "population_density = {'Quito': 5376, 'Santo Domingo': 7667, 'Cayambe': 106, 'Latacunga': 270, 'Riobamba': 2659, 'Ibarra': 620, 'Guaranda': 67, 'Puyo': 454,'Ambato': 7447, 'Guayaquil': 7971, 'Salinas': 1852, 'Daule': 274, 'Babahoyo': 600, 'Quevedo': 667, 'Playas': 143, 'Libertad': 3750, 'Cuenca': 6268, \n",
    "'Loja': 4545, 'Machala': 3881, 'Esmeraldas': 2857, 'Manta': 4000, 'El Carmen': 96}\n",
    "\n",
    "# Map the city to its population & population density\n",
    "stores_df['city_pop'] = stores_df['city'].map(population)\n",
    "stores_df['city_pop_density'] = stores_df['city'].map(population_density)\n",
    "\n",
    "# Manually ordinal encoding into ranks.\n",
    "def rank(population, population_density):\n",
    "    if population < 100000:\n",
    "        pop_rank = 0\n",
    "    elif population < 300000:\n",
    "        pop_rank = 1\n",
    "    elif population < 1000000:\n",
    "        pop_rank = 2\n",
    "    else:\n",
    "        pop_rank = 3\n",
    "        \n",
    "    if population_density < 250:\n",
    "        pop_density_rank = 0\n",
    "    elif population_density < 800:\n",
    "        pop_density_rank = 1\n",
    "    else:\n",
    "        pop_density_rank = 2\n",
    "        \n",
    "    return pop_rank, pop_density_rank\n",
    "\n",
    "# Create new useful feature columns from 'rank' function.\n",
    "stores_df[['city_pop', 'city_pop_density']] = stores_df.apply(lambda row: pd.Series(rank(row['city_pop'], row['city_pop_density'])), axis=1)\n",
    "stores_df['city'] = le.fit_transform(stores_df['city'])\n",
    "stores_df['type'] = le.fit_transform(stores_df['type'])\n",
    "stores_drops = ['state', 'cluster']\n",
    "stores_df = stores_df.drop(stores_drops, axis=1)"
   ]
  },
  {
   "cell_type": "code",
   "execution_count": 83,
   "metadata": {},
   "outputs": [],
   "source": [
    "########## transactions_df ##########\n",
    "\n",
    "# Too hard for me & beginners, would have to predict future transactions separately then add as a feature, don't feel like doing that. (We can't just use the transactions data to train our model, because the transactions for 08-16 to 08-31 are not available yet!) (Also doesn't really make sense to do a lag of a day or a few days for transactions, I don't think that would be a useful lag indicator or helpful for predicting the current day sales from previous days transactions.)\n",
    "\n",
    "########## oil_df ##########\n",
    "\n",
    "# I think in the spirit of this competition, I can probably use the SMA of the oil prices, and if I wanted to be strict I could have lagged them by 1-3 days or something. It makes sense that oil price lags would still be useful to predict the current days sales.\n",
    "\n",
    "# Convert date, fill in NaN entries with neighbor values.\n",
    "oil_df['date'] = pd.to_datetime(oil_df['date'])\n",
    "# Create a complete date range from the start to the end of your current dates, converts to df and merges to original.\n",
    "all_dates = pd.date_range(start=oil_df['date'].min(), end=oil_df['date'].max())\n",
    "all_dates_df = pd.DataFrame(all_dates, columns=['date'])\n",
    "oil_df = pd.merge(all_dates_df, oil_df, on='date', how='left')\n",
    "# backfill missing values, create moving average.\n",
    "oil_df['oil_price'].fillna(method='bfill', inplace=True)\n",
    "oil_df['oil_price_sma_7'] = oil_df['oil_price'].rolling(window=7).mean().round(2)\n",
    "# drop the original oil price because sma is better and more usable.\n",
    "oil_df = oil_df.drop('oil_price', axis=1)"
   ]
  },
  {
   "cell_type": "code",
   "execution_count": 84,
   "metadata": {},
   "outputs": [],
   "source": [
    "########## holidays_events_df ########## (What a convoluted mess!)\n",
    "\n",
    "# Convert date, renames 'type' column to 'holiday_type' for readability\n",
    "holidays_events_df['date'] = pd.to_datetime(holidays_events_df['date'])\n",
    "holidays_events_df = holidays_events_df.rename(columns={'type': 'holiday_type'})\n",
    "# Within 'transferred' column, 'True' just means it's no longer a holiday on that day, so we can keep only rows where it's False.\n",
    "holidays_events_df = holidays_events_df[holidays_events_df['transferred'] == False]\n",
    "# Within 'holiday_type' reclass redundant information as simply 'Holiday'.\n",
    "replacements = ['Transfer', 'Bridge', 'Additional']\n",
    "holidays_events_df['holiday_type'] = holidays_events_df['holiday_type'].replace(replacements, 'Holiday')\n",
    "# Next, keeping only 'National' holidays for 'locale', that's good enough for me.\n",
    "holidays_events_df = holidays_events_df[~holidays_events_df['locale'].isin(['Local', 'Regional'])]\n",
    "# Keep only the first occurrence of each date\n",
    "holidays_events_df = holidays_events_df.drop_duplicates(subset='date')\n",
    "# Drop the useless or too granular columns, and reset index. You could one hot encode or maybe label encode, but idc dropping is fine.\n",
    "holiday_drops = ['locale', 'locale_name', 'description', 'transferred']\n",
    "holidays_events_df = holidays_events_df.drop(holiday_drops, axis=1)\n",
    "holidays_events_df = holidays_events_df.reset_index(drop=True)\n",
    "\n",
    "# 3. Merge the polished versions of the data into our Features dataframe 'X'.\n",
    "X = X.merge(stores_df, on ='store_nbr', how='left')\n",
    "X = X.merge(oil_df, on='date', how='left')\n",
    "X = X.merge(holidays_events_df, on='date', how='left')"
   ]
  },
  {
   "cell_type": "code",
   "execution_count": 85,
   "metadata": {},
   "outputs": [],
   "source": [
    "# Fill NaN values with a string 'None'\n",
    "X['holiday_type'] = X['holiday_type'].fillna('None')\n",
    "# one-hot encoding on 'holiday_type'\n",
    "X = pd.get_dummies(X, columns=['holiday_type'])\n",
    "\n",
    "# Rename one-hot encoded columns\n",
    "renamed_columns = X.columns.str.replace('holiday_type_', '')\n",
    "X.columns = renamed_columns\n",
    "# Creating more features\n",
    "X['day'] = X['date'].dt.day\n",
    "X['month'] = X['date'].dt.month\n",
    "X['year'] = X['date'].dt.year\n",
    "X['day_of_week'] = X['date'].dt.dayofweek\n",
    "X['is_weekend'] = X['day_of_week'].isin([5, 6]).astype(int) \n",
    "X['payday'] = ((X['date'].dt.day == 15) | (X['date'].dt.is_month_end)).astype(int)\n",
    "\n",
    "# splitting back into training and test sets\n",
    "X_train = X[X['date'] < '2017-08-16']\n",
    "X_test = X[X['date'] >= '2017-08-16']\n",
    "# resets indexes\n",
    "X = X.reset_index(drop=True)\n",
    "y = y.reset_index(drop=True)\n",
    "X_test = X_test.reset_index(drop=True)\n",
    "\n",
    "X_train = X_train.drop(columns='date')\n",
    "X_test = X_test.drop(columns='date')"
   ]
  },
  {
   "cell_type": "code",
   "execution_count": 92,
   "metadata": {},
   "outputs": [
    {
     "data": {
      "text/html": [
       "<div>\n",
       "<style scoped>\n",
       "    .dataframe tbody tr th:only-of-type {\n",
       "        vertical-align: middle;\n",
       "    }\n",
       "\n",
       "    .dataframe tbody tr th {\n",
       "        vertical-align: top;\n",
       "    }\n",
       "\n",
       "    .dataframe thead th {\n",
       "        text-align: right;\n",
       "    }\n",
       "</style>\n",
       "<table border=\"1\" class=\"dataframe\">\n",
       "  <thead>\n",
       "    <tr style=\"text-align: right;\">\n",
       "      <th></th>\n",
       "      <th>store_nbr</th>\n",
       "      <th>family</th>\n",
       "      <th>onpromotion</th>\n",
       "      <th>city</th>\n",
       "      <th>type</th>\n",
       "      <th>city_pop</th>\n",
       "      <th>city_pop_density</th>\n",
       "      <th>oil_price_sma_7</th>\n",
       "      <th>Event</th>\n",
       "      <th>Holiday</th>\n",
       "      <th>None</th>\n",
       "      <th>Work Day</th>\n",
       "      <th>day</th>\n",
       "      <th>month</th>\n",
       "      <th>year</th>\n",
       "      <th>day_of_week</th>\n",
       "      <th>is_weekend</th>\n",
       "      <th>payday</th>\n",
       "    </tr>\n",
       "  </thead>\n",
       "  <tbody>\n",
       "    <tr>\n",
       "      <th>0</th>\n",
       "      <td>1</td>\n",
       "      <td>0</td>\n",
       "      <td>0</td>\n",
       "      <td>18</td>\n",
       "      <td>3</td>\n",
       "      <td>3</td>\n",
       "      <td>2</td>\n",
       "      <td>44.24</td>\n",
       "      <td>0</td>\n",
       "      <td>0</td>\n",
       "      <td>1</td>\n",
       "      <td>0</td>\n",
       "      <td>15</td>\n",
       "      <td>8</td>\n",
       "      <td>2016</td>\n",
       "      <td>0</td>\n",
       "      <td>0</td>\n",
       "      <td>1</td>\n",
       "    </tr>\n",
       "    <tr>\n",
       "      <th>1</th>\n",
       "      <td>1</td>\n",
       "      <td>1</td>\n",
       "      <td>0</td>\n",
       "      <td>18</td>\n",
       "      <td>3</td>\n",
       "      <td>3</td>\n",
       "      <td>2</td>\n",
       "      <td>44.24</td>\n",
       "      <td>0</td>\n",
       "      <td>0</td>\n",
       "      <td>1</td>\n",
       "      <td>0</td>\n",
       "      <td>15</td>\n",
       "      <td>8</td>\n",
       "      <td>2016</td>\n",
       "      <td>0</td>\n",
       "      <td>0</td>\n",
       "      <td>1</td>\n",
       "    </tr>\n",
       "    <tr>\n",
       "      <th>2</th>\n",
       "      <td>1</td>\n",
       "      <td>2</td>\n",
       "      <td>0</td>\n",
       "      <td>18</td>\n",
       "      <td>3</td>\n",
       "      <td>3</td>\n",
       "      <td>2</td>\n",
       "      <td>44.24</td>\n",
       "      <td>0</td>\n",
       "      <td>0</td>\n",
       "      <td>1</td>\n",
       "      <td>0</td>\n",
       "      <td>15</td>\n",
       "      <td>8</td>\n",
       "      <td>2016</td>\n",
       "      <td>0</td>\n",
       "      <td>0</td>\n",
       "      <td>1</td>\n",
       "    </tr>\n",
       "    <tr>\n",
       "      <th>3</th>\n",
       "      <td>1</td>\n",
       "      <td>3</td>\n",
       "      <td>37</td>\n",
       "      <td>18</td>\n",
       "      <td>3</td>\n",
       "      <td>3</td>\n",
       "      <td>2</td>\n",
       "      <td>44.24</td>\n",
       "      <td>0</td>\n",
       "      <td>0</td>\n",
       "      <td>1</td>\n",
       "      <td>0</td>\n",
       "      <td>15</td>\n",
       "      <td>8</td>\n",
       "      <td>2016</td>\n",
       "      <td>0</td>\n",
       "      <td>0</td>\n",
       "      <td>1</td>\n",
       "    </tr>\n",
       "    <tr>\n",
       "      <th>4</th>\n",
       "      <td>1</td>\n",
       "      <td>4</td>\n",
       "      <td>0</td>\n",
       "      <td>18</td>\n",
       "      <td>3</td>\n",
       "      <td>3</td>\n",
       "      <td>2</td>\n",
       "      <td>44.24</td>\n",
       "      <td>0</td>\n",
       "      <td>0</td>\n",
       "      <td>1</td>\n",
       "      <td>0</td>\n",
       "      <td>15</td>\n",
       "      <td>8</td>\n",
       "      <td>2016</td>\n",
       "      <td>0</td>\n",
       "      <td>0</td>\n",
       "      <td>1</td>\n",
       "    </tr>\n",
       "    <tr>\n",
       "      <th>...</th>\n",
       "      <td>...</td>\n",
       "      <td>...</td>\n",
       "      <td>...</td>\n",
       "      <td>...</td>\n",
       "      <td>...</td>\n",
       "      <td>...</td>\n",
       "      <td>...</td>\n",
       "      <td>...</td>\n",
       "      <td>...</td>\n",
       "      <td>...</td>\n",
       "      <td>...</td>\n",
       "      <td>...</td>\n",
       "      <td>...</td>\n",
       "      <td>...</td>\n",
       "      <td>...</td>\n",
       "      <td>...</td>\n",
       "      <td>...</td>\n",
       "      <td>...</td>\n",
       "    </tr>\n",
       "    <tr>\n",
       "      <th>650425</th>\n",
       "      <td>9</td>\n",
       "      <td>28</td>\n",
       "      <td>0</td>\n",
       "      <td>18</td>\n",
       "      <td>1</td>\n",
       "      <td>3</td>\n",
       "      <td>2</td>\n",
       "      <td>48.18</td>\n",
       "      <td>0</td>\n",
       "      <td>0</td>\n",
       "      <td>1</td>\n",
       "      <td>0</td>\n",
       "      <td>15</td>\n",
       "      <td>8</td>\n",
       "      <td>2017</td>\n",
       "      <td>1</td>\n",
       "      <td>0</td>\n",
       "      <td>1</td>\n",
       "    </tr>\n",
       "    <tr>\n",
       "      <th>650426</th>\n",
       "      <td>9</td>\n",
       "      <td>29</td>\n",
       "      <td>1</td>\n",
       "      <td>18</td>\n",
       "      <td>1</td>\n",
       "      <td>3</td>\n",
       "      <td>2</td>\n",
       "      <td>48.18</td>\n",
       "      <td>0</td>\n",
       "      <td>0</td>\n",
       "      <td>1</td>\n",
       "      <td>0</td>\n",
       "      <td>15</td>\n",
       "      <td>8</td>\n",
       "      <td>2017</td>\n",
       "      <td>1</td>\n",
       "      <td>0</td>\n",
       "      <td>1</td>\n",
       "    </tr>\n",
       "    <tr>\n",
       "      <th>650427</th>\n",
       "      <td>9</td>\n",
       "      <td>30</td>\n",
       "      <td>148</td>\n",
       "      <td>18</td>\n",
       "      <td>1</td>\n",
       "      <td>3</td>\n",
       "      <td>2</td>\n",
       "      <td>48.18</td>\n",
       "      <td>0</td>\n",
       "      <td>0</td>\n",
       "      <td>1</td>\n",
       "      <td>0</td>\n",
       "      <td>15</td>\n",
       "      <td>8</td>\n",
       "      <td>2017</td>\n",
       "      <td>1</td>\n",
       "      <td>0</td>\n",
       "      <td>1</td>\n",
       "    </tr>\n",
       "    <tr>\n",
       "      <th>650428</th>\n",
       "      <td>9</td>\n",
       "      <td>31</td>\n",
       "      <td>8</td>\n",
       "      <td>18</td>\n",
       "      <td>1</td>\n",
       "      <td>3</td>\n",
       "      <td>2</td>\n",
       "      <td>48.18</td>\n",
       "      <td>0</td>\n",
       "      <td>0</td>\n",
       "      <td>1</td>\n",
       "      <td>0</td>\n",
       "      <td>15</td>\n",
       "      <td>8</td>\n",
       "      <td>2017</td>\n",
       "      <td>1</td>\n",
       "      <td>0</td>\n",
       "      <td>1</td>\n",
       "    </tr>\n",
       "    <tr>\n",
       "      <th>650429</th>\n",
       "      <td>9</td>\n",
       "      <td>32</td>\n",
       "      <td>0</td>\n",
       "      <td>18</td>\n",
       "      <td>1</td>\n",
       "      <td>3</td>\n",
       "      <td>2</td>\n",
       "      <td>48.18</td>\n",
       "      <td>0</td>\n",
       "      <td>0</td>\n",
       "      <td>1</td>\n",
       "      <td>0</td>\n",
       "      <td>15</td>\n",
       "      <td>8</td>\n",
       "      <td>2017</td>\n",
       "      <td>1</td>\n",
       "      <td>0</td>\n",
       "      <td>1</td>\n",
       "    </tr>\n",
       "  </tbody>\n",
       "</table>\n",
       "<p>650430 rows × 18 columns</p>\n",
       "</div>"
      ],
      "text/plain": [
       "        store_nbr  family  onpromotion  city  type  city_pop  \\\n",
       "0               1       0            0    18     3         3   \n",
       "1               1       1            0    18     3         3   \n",
       "2               1       2            0    18     3         3   \n",
       "3               1       3           37    18     3         3   \n",
       "4               1       4            0    18     3         3   \n",
       "...           ...     ...          ...   ...   ...       ...   \n",
       "650425          9      28            0    18     1         3   \n",
       "650426          9      29            1    18     1         3   \n",
       "650427          9      30          148    18     1         3   \n",
       "650428          9      31            8    18     1         3   \n",
       "650429          9      32            0    18     1         3   \n",
       "\n",
       "        city_pop_density  oil_price_sma_7  Event  Holiday  None  Work Day  \\\n",
       "0                      2            44.24      0        0     1         0   \n",
       "1                      2            44.24      0        0     1         0   \n",
       "2                      2            44.24      0        0     1         0   \n",
       "3                      2            44.24      0        0     1         0   \n",
       "4                      2            44.24      0        0     1         0   \n",
       "...                  ...              ...    ...      ...   ...       ...   \n",
       "650425                 2            48.18      0        0     1         0   \n",
       "650426                 2            48.18      0        0     1         0   \n",
       "650427                 2            48.18      0        0     1         0   \n",
       "650428                 2            48.18      0        0     1         0   \n",
       "650429                 2            48.18      0        0     1         0   \n",
       "\n",
       "        day  month  year  day_of_week  is_weekend  payday  \n",
       "0        15      8  2016            0           0       1  \n",
       "1        15      8  2016            0           0       1  \n",
       "2        15      8  2016            0           0       1  \n",
       "3        15      8  2016            0           0       1  \n",
       "4        15      8  2016            0           0       1  \n",
       "...     ...    ...   ...          ...         ...     ...  \n",
       "650425   15      8  2017            1           0       1  \n",
       "650426   15      8  2017            1           0       1  \n",
       "650427   15      8  2017            1           0       1  \n",
       "650428   15      8  2017            1           0       1  \n",
       "650429   15      8  2017            1           0       1  \n",
       "\n",
       "[650430 rows x 18 columns]"
      ]
     },
     "execution_count": 92,
     "metadata": {},
     "output_type": "execute_result"
    }
   ],
   "source": [
    "# X\n",
    "# 678,942 rows, all good, with date column\n",
    "# y\n",
    "# 650,430 rows all good, just 'sales'.\n",
    "# X_train\n",
    "# 650,430 rows all good, no date column.\n",
    "# X_test\n",
    "# 28,512 rows all good, no date column.\n",
    "X_train"
   ]
  },
  {
   "attachments": {},
   "cell_type": "markdown",
   "metadata": {},
   "source": [
    "                                                            Multiple models looping - Fit"
   ]
  },
  {
   "cell_type": "code",
   "execution_count": 63,
   "metadata": {},
   "outputs": [
    {
     "name": "stderr",
     "output_type": "stream",
     "text": [
      "100%|██████████| 1782/1782 [01:10<00:00, 25.40it/s]\n"
     ]
    }
   ],
   "source": [
    "# Extract the unique combinations of store_nbr and family\n",
    "store_family_pairs = [tuple(x) for x in X_train[['store_nbr', 'family']].drop_duplicates().values]\n",
    "\n",
    "# Initialize an empty dictionary to store the models\n",
    "models = {}\n",
    "\n",
    "# Loop through each pair\n",
    "for pair in tqdm(store_family_pairs):\n",
    "    # Filter the dataframe for the current pair\n",
    "    X_train_pair = X_train[(X_train['store_nbr'] == pair[0]) & (X_train['family'] == pair[1])]\n",
    "    y_pair = y[X_train_pair.index]\n",
    "    \n",
    "    # Initialize and train a model for the current pair\n",
    "    lgbm = LGBMRegressor(learning_rate = 0.01, n_estimators = 300, num_leaves = 80, n_jobs=2)\n",
    "    lgbm.fit(X_train_pair, y_pair)\n",
    "    \n",
    "    # Store the model in the dictionary using the pair as the key\n",
    "    models[pair] = lgbm\n",
    "\n",
    "    # 0.441065 = lr 0.02, nest=250, num leaves= 50"
   ]
  },
  {
   "attachments": {},
   "cell_type": "markdown",
   "metadata": {},
   "source": [
    "                                                        Multiple models looping - Prediction on Train"
   ]
  },
  {
   "cell_type": "code",
   "execution_count": 64,
   "metadata": {},
   "outputs": [
    {
     "name": "stdout",
     "output_type": "stream",
     "text": [
      "RMSLE on Training data: 0.3886955484472582\n"
     ]
    }
   ],
   "source": [
    "# Initialize an empty list to store the predictions\n",
    "y_pred_train = []\n",
    "indices = []\n",
    "\n",
    "# Loop through each model and make predictions\n",
    "for pair, model in models.items():\n",
    "    # Filter the dataframe for the current pair\n",
    "    X_train_pair = X_train[((X_train['store_nbr'] == pair[0]) & (X_train['family'] == pair[1]))]\n",
    "    \n",
    "    # Make predictions and append them to the list\n",
    "    y_pred_train.extend(model.predict(X_train_pair))\n",
    "\n",
    "    # Store the indices\n",
    "    indices.extend(X_train_pair.index.tolist())\n",
    "\n",
    "# Create a DataFrame from the predictions and indices\n",
    "predictions_df = pd.DataFrame({'Index': indices, 'Prediction': y_pred_train})\n",
    "\n",
    "# Sort the predictions DataFrame by index\n",
    "predictions_df.sort_values(by='Index', inplace=True)\n",
    "\n",
    "# Convert the predictions and truth to the original scale\n",
    "y_pred_train = np.maximum(predictions_df['Prediction'].values, 0)\n",
    "y_pred_train = np.expm1(y_pred_train)\n",
    "y_train_expm1 = np.expm1(y)\n",
    "\n",
    "# Calculate the RMSLE on the training data\n",
    "rmsle_train = np.sqrt(mean_squared_log_error(y_train_expm1, y_pred_train))\n",
    "print(f\"RMSLE on Training data: {rmsle_train}\")"
   ]
  },
  {
   "attachments": {},
   "cell_type": "markdown",
   "metadata": {},
   "source": [
    "                                                    Multiple models looping - Prediction on Test"
   ]
  },
  {
   "cell_type": "code",
   "execution_count": 65,
   "metadata": {},
   "outputs": [],
   "source": [
    "# Initialize an empty list to store the predictions\n",
    "y_pred_test = []\n",
    "indices = []\n",
    "\n",
    "# Loop through each model and make predictions\n",
    "for pair, model in models.items():\n",
    "    # Filter the dataframe for the current pair\n",
    "    X_test_pair = X_test[( (X_test['store_nbr'] == pair[0]) & (X_test['family'] == pair[1]) )]\n",
    "    \n",
    "    # Make predictions and append them to the list\n",
    "    y_pred_test.extend(model.predict(X_test_pair))\n",
    "\n",
    "    # Store the indices\n",
    "    indices.extend(X_test_pair.index.tolist())\n",
    "\n",
    "# Create a DataFrame from the predictions and indices\n",
    "predictions_df = pd.DataFrame({'Index': indices, 'Prediction': y_pred_test})\n",
    "\n",
    "# Sort the predictions DataFrame by index\n",
    "predictions_df.sort_values(by='Index', inplace=True)\n",
    "\n",
    "# Convert the predictions to the original scale and clip them at 0\n",
    "y_pred_test = np.maximum(predictions_df['Prediction'].values, 0)\n",
    "y_pred_test = np.expm1(y_pred_test)"
   ]
  },
  {
   "cell_type": "code",
   "execution_count": 66,
   "metadata": {},
   "outputs": [],
   "source": [
    "df_submission = pd.DataFrame()\n",
    "df_submission['id'] = range(len(y_pred_test))\n",
    "df_submission['id'] += 3000888\n",
    "df_submission['sales'] = y_pred_test\n",
    "\n",
    "# Reorder columns\n",
    "df_submission = df_submission[['id', 'sales']]\n",
    "df_submission.to_csv('submission4.csv', index=False)"
   ]
  },
  {
   "cell_type": "code",
   "execution_count": 108,
   "metadata": {},
   "outputs": [
    {
     "data": {
      "application/vnd.plotly.v1+json": {
       "config": {
        "plotlyServerURL": "https://plot.ly"
       },
       "data": [
        {
         "colorscale": [
          [
           0,
           "rgb(0,0,131)"
          ],
          [
           0.2,
           "rgb(0,60,170)"
          ],
          [
           0.4,
           "rgb(5,255,255)"
          ],
          [
           0.6,
           "rgb(255,255,0)"
          ],
          [
           0.8,
           "rgb(250,0,0)"
          ],
          [
           1,
           "rgb(128,0,0)"
          ]
         ],
         "opacity": 1,
         "reversescale": false,
         "text": [
          [
           1,
           0,
           0.0024386723353171727,
           -0.3598476870663613,
           -0.36128337685655876,
           -0.14687461489202092,
           0.07743970954210673,
           0,
           0,
           0,
           0,
           0,
           0,
           0,
           0,
           0,
           0,
           0
          ],
          [
           0,
           1,
           -0.1554897179358658,
           0,
           0,
           0,
           0,
           0,
           0,
           0,
           0,
           0,
           0,
           0,
           0,
           0,
           0,
           0
          ],
          [
           0.0024386723353171727,
           -0.1554897179358658,
           1,
           0.005843588239769556,
           -0.009668317998228221,
           0.03636445680138098,
           0.01301198731603722,
           0.02910159770916598,
           0.007989631810954547,
           0.02068015061052819,
           -0.022435165712220637,
           0.002684183443027072,
           0.0067553980266895075,
           -0.018317414113619986,
           0.03543452972463888,
           0.018860105963218982,
           -0.005920332980449447,
           0.003175131139555379
          ],
          [
           -0.3598476870663613,
           0,
           0.005843588239769556,
           1,
           -0.12135156974302438,
           0.30140731999903314,
           0.3521710123528078,
           0,
           0,
           0,
           0,
           0,
           0,
           0,
           0,
           0,
           0,
           0
          ],
          [
           -0.36128337685655876,
           0,
           -0.009668317998228221,
           -0.12135156974302438,
           1,
           -0.1056646620136304,
           0.10884039270006372,
           0,
           0,
           0,
           0,
           0,
           0,
           0,
           0,
           0,
           0,
           0
          ],
          [
           -0.14687461489202092,
           0,
           0.03636445680138098,
           0.30140731999903314,
           -0.1056646620136304,
           1,
           0.6396249143905136,
           0,
           0,
           0,
           0,
           0,
           0,
           0,
           0,
           0,
           0,
           0
          ],
          [
           0.07743970954210673,
           0,
           0.01301198731603722,
           0.3521710123528078,
           0.10884039270006372,
           0.6396249143905136,
           1,
           0,
           0,
           0,
           0,
           0,
           0,
           0,
           0,
           0,
           0,
           0
          ],
          [
           0,
           0,
           0.02910159770916598,
           0,
           0,
           0,
           0,
           1,
           -0.04867139637596647,
           0.1367206326355749,
           -0.08855164493195714,
           -0.07909489371226638,
           -0.049002167439264104,
           -0.4485809784451832,
           0.2817342267963953,
           0.005507475711609733,
           0.0035242165901426146,
           -0.01291921950605985
          ],
          [
           0,
           0,
           0.007989631810954547,
           0,
           0,
           0,
           0,
           -0.04867139637596647,
           1,
           -0.02073374998009236,
           -0.35945295788209314,
           -0.0047715079336262374,
           0.06886692167925815,
           0.0658924046768831,
           -0.0541775919880148,
           0.01585837947435009,
           0.010344365480781496,
           -0.024685213509424018
          ],
          [
           0,
           0,
           0.02068015061052819,
           0,
           0,
           0,
           0,
           0.1367206326355749,
           -0.02073374998009236,
           1,
           -0.8993054695053934,
           -0.011937704471209247,
           0.006067615757217366,
           0.10960166104429625,
           -0.08335757823107462,
           -0.010191908412602674,
           -0.03034771339160164,
           0.03842798199430269
          ],
          [
           0,
           0,
           -0.022435165712220637,
           0,
           0,
           0,
           0,
           -0.08855164493195714,
           -0.35945295788209314,
           -0.8993054695053934,
           1,
           -0.20695933859617893,
           -0.026781528896053355,
           -0.13978713597315648,
           0.11115555987393198,
           -0.008389429098450592,
           0.005325813250413516,
           -0.02247525572230443
          ],
          [
           0,
           0,
           0.002684183443027072,
           0,
           0,
           0,
           0,
           -0.07909489371226638,
           -0.0047715079336262374,
           -0.011937704471209247,
           -0.20695933859617893,
           1,
           -0.022148126813372658,
           0.06863844387914293,
           -0.06722374352081209,
           0.05302479327236734,
           0.08359520006361959,
           -0.01421280684715256
          ],
          [
           0,
           0,
           0.0067553980266895075,
           0,
           0,
           0,
           0,
           -0.049002167439264104,
           0.06886692167925815,
           0.006067615757217366,
           -0.026781528896053355,
           -0.022148126813372658,
           1,
           0.0070936799214602626,
           -0.0788128452346903,
           -0.022560991476557553,
           -0.019451069825071134,
           0.20357059131771785
          ],
          [
           0,
           0,
           -0.018317414113619986,
           0,
           0,
           0,
           0,
           -0.4485809784451832,
           0.0658924046768831,
           0.10960166104429625,
           -0.13978713597315648,
           0.06863844387914293,
           0.0070936799214602626,
           1,
           -0.8359651756145335,
           -0.0031344704921955216,
           -0.007188989507589384,
           0.0035638962679594354
          ],
          [
           0,
           0,
           0.03543452972463888,
           0,
           0,
           0,
           0,
           0.2817342267963953,
           -0.0541775919880148,
           -0.08335757823107462,
           0.11115555987393198,
           -0.06722374352081209,
           -0.0788128452346903,
           -0.8359651756145335,
           1,
           0.008343446110786806,
           0.011831415675006137,
           -0.012256544913557446
          ],
          [
           0,
           0,
           0.018860105963218982,
           0,
           0,
           0,
           0,
           0.005507475711609733,
           0.01585837947435009,
           -0.010191908412602674,
           -0.008389429098450592,
           0.05302479327236734,
           -0.022560991476557553,
           -0.0031344704921955216,
           0.008343446110786806,
           1,
           0.7876195337825489,
           -0.0403031935494916
          ],
          [
           0,
           0,
           -0.005920332980449447,
           0,
           0,
           0,
           0,
           0.0035242165901426146,
           0.010344365480781496,
           -0.03034771339160164,
           0.005325813250413516,
           0.08359520006361959,
           -0.019451069825071134,
           -0.007188989507589384,
           0.011831415675006137,
           0.7876195337825489,
           1,
           -0.025420378259530006
          ],
          [
           0,
           0,
           0.003175131139555379,
           0,
           0,
           0,
           0,
           -0.01291921950605985,
           -0.024685213509424018,
           0.03842798199430269,
           -0.02247525572230443,
           -0.01421280684715256,
           0.20357059131771785,
           0.0035638962679594354,
           -0.012256544913557446,
           -0.0403031935494916,
           -0.025420378259530006,
           1
          ]
         ],
         "type": "heatmap",
         "x": [
          "store_nbr",
          "family",
          "onpromotion",
          "city",
          "type",
          "city_pop",
          "city_pop_density",
          "oil_price_sma_7",
          "Event",
          "Holiday",
          "None",
          "Work Day",
          "day",
          "month",
          "year",
          "day_of_week",
          "is_weekend",
          "payday"
         ],
         "y": [
          "store_nbr",
          "family",
          "onpromotion",
          "city",
          "type",
          "city_pop",
          "city_pop_density",
          "oil_price_sma_7",
          "Event",
          "Holiday",
          "None",
          "Work Day",
          "day",
          "month",
          "year",
          "day_of_week",
          "is_weekend",
          "payday"
         ],
         "z": [
          [
           1,
           0,
           0.0024386723353171727,
           -0.3598476870663613,
           -0.36128337685655876,
           -0.14687461489202092,
           0.07743970954210673,
           0,
           0,
           0,
           0,
           0,
           0,
           0,
           0,
           0,
           0,
           0
          ],
          [
           0,
           1,
           -0.1554897179358658,
           0,
           0,
           0,
           0,
           0,
           0,
           0,
           0,
           0,
           0,
           0,
           0,
           0,
           0,
           0
          ],
          [
           0.0024386723353171727,
           -0.1554897179358658,
           1,
           0.005843588239769556,
           -0.009668317998228221,
           0.03636445680138098,
           0.01301198731603722,
           0.02910159770916598,
           0.007989631810954547,
           0.02068015061052819,
           -0.022435165712220637,
           0.002684183443027072,
           0.0067553980266895075,
           -0.018317414113619986,
           0.03543452972463888,
           0.018860105963218982,
           -0.005920332980449447,
           0.003175131139555379
          ],
          [
           -0.3598476870663613,
           0,
           0.005843588239769556,
           1,
           -0.12135156974302438,
           0.30140731999903314,
           0.3521710123528078,
           0,
           0,
           0,
           0,
           0,
           0,
           0,
           0,
           0,
           0,
           0
          ],
          [
           -0.36128337685655876,
           0,
           -0.009668317998228221,
           -0.12135156974302438,
           1,
           -0.1056646620136304,
           0.10884039270006372,
           0,
           0,
           0,
           0,
           0,
           0,
           0,
           0,
           0,
           0,
           0
          ],
          [
           -0.14687461489202092,
           0,
           0.03636445680138098,
           0.30140731999903314,
           -0.1056646620136304,
           1,
           0.6396249143905136,
           0,
           0,
           0,
           0,
           0,
           0,
           0,
           0,
           0,
           0,
           0
          ],
          [
           0.07743970954210673,
           0,
           0.01301198731603722,
           0.3521710123528078,
           0.10884039270006372,
           0.6396249143905136,
           1,
           0,
           0,
           0,
           0,
           0,
           0,
           0,
           0,
           0,
           0,
           0
          ],
          [
           0,
           0,
           0.02910159770916598,
           0,
           0,
           0,
           0,
           1,
           -0.04867139637596647,
           0.1367206326355749,
           -0.08855164493195714,
           -0.07909489371226638,
           -0.049002167439264104,
           -0.4485809784451832,
           0.2817342267963953,
           0.005507475711609733,
           0.0035242165901426146,
           -0.01291921950605985
          ],
          [
           0,
           0,
           0.007989631810954547,
           0,
           0,
           0,
           0,
           -0.04867139637596647,
           1,
           -0.02073374998009236,
           -0.35945295788209314,
           -0.0047715079336262374,
           0.06886692167925815,
           0.0658924046768831,
           -0.0541775919880148,
           0.01585837947435009,
           0.010344365480781496,
           -0.024685213509424018
          ],
          [
           0,
           0,
           0.02068015061052819,
           0,
           0,
           0,
           0,
           0.1367206326355749,
           -0.02073374998009236,
           1,
           -0.8993054695053934,
           -0.011937704471209247,
           0.006067615757217366,
           0.10960166104429625,
           -0.08335757823107462,
           -0.010191908412602674,
           -0.03034771339160164,
           0.03842798199430269
          ],
          [
           0,
           0,
           -0.022435165712220637,
           0,
           0,
           0,
           0,
           -0.08855164493195714,
           -0.35945295788209314,
           -0.8993054695053934,
           1,
           -0.20695933859617893,
           -0.026781528896053355,
           -0.13978713597315648,
           0.11115555987393198,
           -0.008389429098450592,
           0.005325813250413516,
           -0.02247525572230443
          ],
          [
           0,
           0,
           0.002684183443027072,
           0,
           0,
           0,
           0,
           -0.07909489371226638,
           -0.0047715079336262374,
           -0.011937704471209247,
           -0.20695933859617893,
           1,
           -0.022148126813372658,
           0.06863844387914293,
           -0.06722374352081209,
           0.05302479327236734,
           0.08359520006361959,
           -0.01421280684715256
          ],
          [
           0,
           0,
           0.0067553980266895075,
           0,
           0,
           0,
           0,
           -0.049002167439264104,
           0.06886692167925815,
           0.006067615757217366,
           -0.026781528896053355,
           -0.022148126813372658,
           1,
           0.0070936799214602626,
           -0.0788128452346903,
           -0.022560991476557553,
           -0.019451069825071134,
           0.20357059131771785
          ],
          [
           0,
           0,
           -0.018317414113619986,
           0,
           0,
           0,
           0,
           -0.4485809784451832,
           0.0658924046768831,
           0.10960166104429625,
           -0.13978713597315648,
           0.06863844387914293,
           0.0070936799214602626,
           1,
           -0.8359651756145335,
           -0.0031344704921955216,
           -0.007188989507589384,
           0.0035638962679594354
          ],
          [
           0,
           0,
           0.03543452972463888,
           0,
           0,
           0,
           0,
           0.2817342267963953,
           -0.0541775919880148,
           -0.08335757823107462,
           0.11115555987393198,
           -0.06722374352081209,
           -0.0788128452346903,
           -0.8359651756145335,
           1,
           0.008343446110786806,
           0.011831415675006137,
           -0.012256544913557446
          ],
          [
           0,
           0,
           0.018860105963218982,
           0,
           0,
           0,
           0,
           0.005507475711609733,
           0.01585837947435009,
           -0.010191908412602674,
           -0.008389429098450592,
           0.05302479327236734,
           -0.022560991476557553,
           -0.0031344704921955216,
           0.008343446110786806,
           1,
           0.7876195337825489,
           -0.0403031935494916
          ],
          [
           0,
           0,
           -0.005920332980449447,
           0,
           0,
           0,
           0,
           0.0035242165901426146,
           0.010344365480781496,
           -0.03034771339160164,
           0.005325813250413516,
           0.08359520006361959,
           -0.019451069825071134,
           -0.007188989507589384,
           0.011831415675006137,
           0.7876195337825489,
           1,
           -0.025420378259530006
          ],
          [
           0,
           0,
           0.003175131139555379,
           0,
           0,
           0,
           0,
           -0.01291921950605985,
           -0.024685213509424018,
           0.03842798199430269,
           -0.02247525572230443,
           -0.01421280684715256,
           0.20357059131771785,
           0.0035638962679594354,
           -0.012256544913557446,
           -0.0403031935494916,
           -0.025420378259530006,
           1
          ]
         ]
        }
       ],
       "layout": {
        "height": 700,
        "template": {
         "data": {
          "bar": [
           {
            "error_x": {
             "color": "#2a3f5f"
            },
            "error_y": {
             "color": "#2a3f5f"
            },
            "marker": {
             "line": {
              "color": "#E5ECF6",
              "width": 0.5
             },
             "pattern": {
              "fillmode": "overlay",
              "size": 10,
              "solidity": 0.2
             }
            },
            "type": "bar"
           }
          ],
          "barpolar": [
           {
            "marker": {
             "line": {
              "color": "#E5ECF6",
              "width": 0.5
             },
             "pattern": {
              "fillmode": "overlay",
              "size": 10,
              "solidity": 0.2
             }
            },
            "type": "barpolar"
           }
          ],
          "carpet": [
           {
            "aaxis": {
             "endlinecolor": "#2a3f5f",
             "gridcolor": "white",
             "linecolor": "white",
             "minorgridcolor": "white",
             "startlinecolor": "#2a3f5f"
            },
            "baxis": {
             "endlinecolor": "#2a3f5f",
             "gridcolor": "white",
             "linecolor": "white",
             "minorgridcolor": "white",
             "startlinecolor": "#2a3f5f"
            },
            "type": "carpet"
           }
          ],
          "choropleth": [
           {
            "colorbar": {
             "outlinewidth": 0,
             "ticks": ""
            },
            "type": "choropleth"
           }
          ],
          "contour": [
           {
            "colorbar": {
             "outlinewidth": 0,
             "ticks": ""
            },
            "colorscale": [
             [
              0,
              "#0d0887"
             ],
             [
              0.1111111111111111,
              "#46039f"
             ],
             [
              0.2222222222222222,
              "#7201a8"
             ],
             [
              0.3333333333333333,
              "#9c179e"
             ],
             [
              0.4444444444444444,
              "#bd3786"
             ],
             [
              0.5555555555555556,
              "#d8576b"
             ],
             [
              0.6666666666666666,
              "#ed7953"
             ],
             [
              0.7777777777777778,
              "#fb9f3a"
             ],
             [
              0.8888888888888888,
              "#fdca26"
             ],
             [
              1,
              "#f0f921"
             ]
            ],
            "type": "contour"
           }
          ],
          "contourcarpet": [
           {
            "colorbar": {
             "outlinewidth": 0,
             "ticks": ""
            },
            "type": "contourcarpet"
           }
          ],
          "heatmap": [
           {
            "colorbar": {
             "outlinewidth": 0,
             "ticks": ""
            },
            "colorscale": [
             [
              0,
              "#0d0887"
             ],
             [
              0.1111111111111111,
              "#46039f"
             ],
             [
              0.2222222222222222,
              "#7201a8"
             ],
             [
              0.3333333333333333,
              "#9c179e"
             ],
             [
              0.4444444444444444,
              "#bd3786"
             ],
             [
              0.5555555555555556,
              "#d8576b"
             ],
             [
              0.6666666666666666,
              "#ed7953"
             ],
             [
              0.7777777777777778,
              "#fb9f3a"
             ],
             [
              0.8888888888888888,
              "#fdca26"
             ],
             [
              1,
              "#f0f921"
             ]
            ],
            "type": "heatmap"
           }
          ],
          "heatmapgl": [
           {
            "colorbar": {
             "outlinewidth": 0,
             "ticks": ""
            },
            "colorscale": [
             [
              0,
              "#0d0887"
             ],
             [
              0.1111111111111111,
              "#46039f"
             ],
             [
              0.2222222222222222,
              "#7201a8"
             ],
             [
              0.3333333333333333,
              "#9c179e"
             ],
             [
              0.4444444444444444,
              "#bd3786"
             ],
             [
              0.5555555555555556,
              "#d8576b"
             ],
             [
              0.6666666666666666,
              "#ed7953"
             ],
             [
              0.7777777777777778,
              "#fb9f3a"
             ],
             [
              0.8888888888888888,
              "#fdca26"
             ],
             [
              1,
              "#f0f921"
             ]
            ],
            "type": "heatmapgl"
           }
          ],
          "histogram": [
           {
            "marker": {
             "pattern": {
              "fillmode": "overlay",
              "size": 10,
              "solidity": 0.2
             }
            },
            "type": "histogram"
           }
          ],
          "histogram2d": [
           {
            "colorbar": {
             "outlinewidth": 0,
             "ticks": ""
            },
            "colorscale": [
             [
              0,
              "#0d0887"
             ],
             [
              0.1111111111111111,
              "#46039f"
             ],
             [
              0.2222222222222222,
              "#7201a8"
             ],
             [
              0.3333333333333333,
              "#9c179e"
             ],
             [
              0.4444444444444444,
              "#bd3786"
             ],
             [
              0.5555555555555556,
              "#d8576b"
             ],
             [
              0.6666666666666666,
              "#ed7953"
             ],
             [
              0.7777777777777778,
              "#fb9f3a"
             ],
             [
              0.8888888888888888,
              "#fdca26"
             ],
             [
              1,
              "#f0f921"
             ]
            ],
            "type": "histogram2d"
           }
          ],
          "histogram2dcontour": [
           {
            "colorbar": {
             "outlinewidth": 0,
             "ticks": ""
            },
            "colorscale": [
             [
              0,
              "#0d0887"
             ],
             [
              0.1111111111111111,
              "#46039f"
             ],
             [
              0.2222222222222222,
              "#7201a8"
             ],
             [
              0.3333333333333333,
              "#9c179e"
             ],
             [
              0.4444444444444444,
              "#bd3786"
             ],
             [
              0.5555555555555556,
              "#d8576b"
             ],
             [
              0.6666666666666666,
              "#ed7953"
             ],
             [
              0.7777777777777778,
              "#fb9f3a"
             ],
             [
              0.8888888888888888,
              "#fdca26"
             ],
             [
              1,
              "#f0f921"
             ]
            ],
            "type": "histogram2dcontour"
           }
          ],
          "mesh3d": [
           {
            "colorbar": {
             "outlinewidth": 0,
             "ticks": ""
            },
            "type": "mesh3d"
           }
          ],
          "parcoords": [
           {
            "line": {
             "colorbar": {
              "outlinewidth": 0,
              "ticks": ""
             }
            },
            "type": "parcoords"
           }
          ],
          "pie": [
           {
            "automargin": true,
            "type": "pie"
           }
          ],
          "scatter": [
           {
            "fillpattern": {
             "fillmode": "overlay",
             "size": 10,
             "solidity": 0.2
            },
            "type": "scatter"
           }
          ],
          "scatter3d": [
           {
            "line": {
             "colorbar": {
              "outlinewidth": 0,
              "ticks": ""
             }
            },
            "marker": {
             "colorbar": {
              "outlinewidth": 0,
              "ticks": ""
             }
            },
            "type": "scatter3d"
           }
          ],
          "scattercarpet": [
           {
            "marker": {
             "colorbar": {
              "outlinewidth": 0,
              "ticks": ""
             }
            },
            "type": "scattercarpet"
           }
          ],
          "scattergeo": [
           {
            "marker": {
             "colorbar": {
              "outlinewidth": 0,
              "ticks": ""
             }
            },
            "type": "scattergeo"
           }
          ],
          "scattergl": [
           {
            "marker": {
             "colorbar": {
              "outlinewidth": 0,
              "ticks": ""
             }
            },
            "type": "scattergl"
           }
          ],
          "scattermapbox": [
           {
            "marker": {
             "colorbar": {
              "outlinewidth": 0,
              "ticks": ""
             }
            },
            "type": "scattermapbox"
           }
          ],
          "scatterpolar": [
           {
            "marker": {
             "colorbar": {
              "outlinewidth": 0,
              "ticks": ""
             }
            },
            "type": "scatterpolar"
           }
          ],
          "scatterpolargl": [
           {
            "marker": {
             "colorbar": {
              "outlinewidth": 0,
              "ticks": ""
             }
            },
            "type": "scatterpolargl"
           }
          ],
          "scatterternary": [
           {
            "marker": {
             "colorbar": {
              "outlinewidth": 0,
              "ticks": ""
             }
            },
            "type": "scatterternary"
           }
          ],
          "surface": [
           {
            "colorbar": {
             "outlinewidth": 0,
             "ticks": ""
            },
            "colorscale": [
             [
              0,
              "#0d0887"
             ],
             [
              0.1111111111111111,
              "#46039f"
             ],
             [
              0.2222222222222222,
              "#7201a8"
             ],
             [
              0.3333333333333333,
              "#9c179e"
             ],
             [
              0.4444444444444444,
              "#bd3786"
             ],
             [
              0.5555555555555556,
              "#d8576b"
             ],
             [
              0.6666666666666666,
              "#ed7953"
             ],
             [
              0.7777777777777778,
              "#fb9f3a"
             ],
             [
              0.8888888888888888,
              "#fdca26"
             ],
             [
              1,
              "#f0f921"
             ]
            ],
            "type": "surface"
           }
          ],
          "table": [
           {
            "cells": {
             "fill": {
              "color": "#EBF0F8"
             },
             "line": {
              "color": "white"
             }
            },
            "header": {
             "fill": {
              "color": "#C8D4E3"
             },
             "line": {
              "color": "white"
             }
            },
            "type": "table"
           }
          ]
         },
         "layout": {
          "annotationdefaults": {
           "arrowcolor": "#2a3f5f",
           "arrowhead": 0,
           "arrowwidth": 1
          },
          "autotypenumbers": "strict",
          "coloraxis": {
           "colorbar": {
            "outlinewidth": 0,
            "ticks": ""
           }
          },
          "colorscale": {
           "diverging": [
            [
             0,
             "#8e0152"
            ],
            [
             0.1,
             "#c51b7d"
            ],
            [
             0.2,
             "#de77ae"
            ],
            [
             0.3,
             "#f1b6da"
            ],
            [
             0.4,
             "#fde0ef"
            ],
            [
             0.5,
             "#f7f7f7"
            ],
            [
             0.6,
             "#e6f5d0"
            ],
            [
             0.7,
             "#b8e186"
            ],
            [
             0.8,
             "#7fbc41"
            ],
            [
             0.9,
             "#4d9221"
            ],
            [
             1,
             "#276419"
            ]
           ],
           "sequential": [
            [
             0,
             "#0d0887"
            ],
            [
             0.1111111111111111,
             "#46039f"
            ],
            [
             0.2222222222222222,
             "#7201a8"
            ],
            [
             0.3333333333333333,
             "#9c179e"
            ],
            [
             0.4444444444444444,
             "#bd3786"
            ],
            [
             0.5555555555555556,
             "#d8576b"
            ],
            [
             0.6666666666666666,
             "#ed7953"
            ],
            [
             0.7777777777777778,
             "#fb9f3a"
            ],
            [
             0.8888888888888888,
             "#fdca26"
            ],
            [
             1,
             "#f0f921"
            ]
           ],
           "sequentialminus": [
            [
             0,
             "#0d0887"
            ],
            [
             0.1111111111111111,
             "#46039f"
            ],
            [
             0.2222222222222222,
             "#7201a8"
            ],
            [
             0.3333333333333333,
             "#9c179e"
            ],
            [
             0.4444444444444444,
             "#bd3786"
            ],
            [
             0.5555555555555556,
             "#d8576b"
            ],
            [
             0.6666666666666666,
             "#ed7953"
            ],
            [
             0.7777777777777778,
             "#fb9f3a"
            ],
            [
             0.8888888888888888,
             "#fdca26"
            ],
            [
             1,
             "#f0f921"
            ]
           ]
          },
          "colorway": [
           "#636efa",
           "#EF553B",
           "#00cc96",
           "#ab63fa",
           "#FFA15A",
           "#19d3f3",
           "#FF6692",
           "#B6E880",
           "#FF97FF",
           "#FECB52"
          ],
          "font": {
           "color": "#2a3f5f"
          },
          "geo": {
           "bgcolor": "white",
           "lakecolor": "white",
           "landcolor": "#E5ECF6",
           "showlakes": true,
           "showland": true,
           "subunitcolor": "white"
          },
          "hoverlabel": {
           "align": "left"
          },
          "hovermode": "closest",
          "mapbox": {
           "style": "light"
          },
          "paper_bgcolor": "white",
          "plot_bgcolor": "#E5ECF6",
          "polar": {
           "angularaxis": {
            "gridcolor": "white",
            "linecolor": "white",
            "ticks": ""
           },
           "bgcolor": "#E5ECF6",
           "radialaxis": {
            "gridcolor": "white",
            "linecolor": "white",
            "ticks": ""
           }
          },
          "scene": {
           "xaxis": {
            "backgroundcolor": "#E5ECF6",
            "gridcolor": "white",
            "gridwidth": 2,
            "linecolor": "white",
            "showbackground": true,
            "ticks": "",
            "zerolinecolor": "white"
           },
           "yaxis": {
            "backgroundcolor": "#E5ECF6",
            "gridcolor": "white",
            "gridwidth": 2,
            "linecolor": "white",
            "showbackground": true,
            "ticks": "",
            "zerolinecolor": "white"
           },
           "zaxis": {
            "backgroundcolor": "#E5ECF6",
            "gridcolor": "white",
            "gridwidth": 2,
            "linecolor": "white",
            "showbackground": true,
            "ticks": "",
            "zerolinecolor": "white"
           }
          },
          "shapedefaults": {
           "line": {
            "color": "#2a3f5f"
           }
          },
          "ternary": {
           "aaxis": {
            "gridcolor": "white",
            "linecolor": "white",
            "ticks": ""
           },
           "baxis": {
            "gridcolor": "white",
            "linecolor": "white",
            "ticks": ""
           },
           "bgcolor": "#E5ECF6",
           "caxis": {
            "gridcolor": "white",
            "linecolor": "white",
            "ticks": ""
           }
          },
          "title": {
           "x": 0.05
          },
          "xaxis": {
           "automargin": true,
           "gridcolor": "white",
           "linecolor": "white",
           "ticks": "",
           "title": {
            "standoff": 15
           },
           "zerolinecolor": "white",
           "zerolinewidth": 2
          },
          "yaxis": {
           "automargin": true,
           "gridcolor": "white",
           "linecolor": "white",
           "ticks": "",
           "title": {
            "standoff": 15
           },
           "zerolinecolor": "white",
           "zerolinewidth": 2
          }
         }
        },
        "title": {
         "text": "Spearman Correlation of Features"
        },
        "width": 900,
        "xaxis": {
         "nticks": 36,
         "ticks": ""
        },
        "yaxis": {
         "ticks": ""
        }
       }
      }
     },
     "metadata": {},
     "output_type": "display_data"
    }
   ],
   "source": [
    "correlation_values = X_train.corr(method='spearman').values\n",
    "feature_names = X_train.columns.values\n",
    "\n",
    "data = [\n",
    "    go.Heatmap(\n",
    "        z=correlation_values,\n",
    "        x=feature_names,\n",
    "        y=feature_names,\n",
    "        colorscale='Jet',\n",
    "        reversescale=False,\n",
    "        text=correlation_values,\n",
    "        opacity=1.0\n",
    "    )\n",
    "]\n",
    "\n",
    "layout = go.Layout(\n",
    "    title='Spearman Correlation of Features',\n",
    "    xaxis=dict(ticks='', nticks=36),\n",
    "    yaxis=dict(ticks=''),\n",
    "    width=900,\n",
    "    height=700\n",
    ")\n",
    "\n",
    "fig = go.Figure(data=data, layout=layout)\n",
    "fig.show()"
   ]
  }
 ],
 "metadata": {
  "kernelspec": {
   "display_name": "Python 3",
   "language": "python",
   "name": "python3"
  },
  "language_info": {
   "codemirror_mode": {
    "name": "ipython",
    "version": 3
   },
   "file_extension": ".py",
   "mimetype": "text/x-python",
   "name": "python",
   "nbconvert_exporter": "python",
   "pygments_lexer": "ipython3",
   "version": "3.10.11"
  },
  "orig_nbformat": 4
 },
 "nbformat": 4,
 "nbformat_minor": 2
}
